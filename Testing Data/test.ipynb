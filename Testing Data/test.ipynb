{
 "cells": [
  {
   "cell_type": "code",
   "execution_count": 40,
   "id": "84004747",
   "metadata": {},
   "outputs": [],
   "source": [
    "import pandas as pd"
   ]
  },
  {
   "cell_type": "code",
   "execution_count": 41,
   "id": "b25ccfd0",
   "metadata": {},
   "outputs": [
    {
     "data": {
      "text/plain": [
       "<bound method DataFrame.info of           Player                  Team Team within selected timeframe  \\\n",
       "0      S. Wilson                Durham                         Durham   \n",
       "1     B. Salicki                Durham                         Durham   \n",
       "2      B. Hepple                Durham                         Durham   \n",
       "3      T. Toland      Blackburn Rovers               Blackburn Rovers   \n",
       "4     F. Stenson           Southampton                    Southampton   \n",
       "..           ...                   ...                            ...   \n",
       "271  I. Phillips  Sheffield United LFC           Sheffield United LFC   \n",
       "272   G. Jarrett            Portsmouth                     Portsmouth   \n",
       "273    G. Gibson      Newcastle United               Newcastle United   \n",
       "274    E. Cassap        Sunderland U21                     Sunderland   \n",
       "275   L. Coulson            Durham U21                         Durham   \n",
       "\n",
       "             Position   Age  Market value Contract expires  Matches played  \\\n",
       "0                 RCB  34.0             0              NaN              20   \n",
       "1                 LCB  33.0             0              NaN              20   \n",
       "2    RDMF, RCMF, LAMF  28.0             0              NaN              20   \n",
       "3           DMF, LCMF  24.0             0              NaN              20   \n",
       "4                  GK  24.0             0              NaN              20   \n",
       "..                ...   ...           ...              ...             ...   \n",
       "271                RW   NaN             0              NaN               1   \n",
       "272                RB  18.0             0              NaN               1   \n",
       "273              LCMF  26.0             0              NaN               1   \n",
       "274              LCMF  18.0             0              NaN               1   \n",
       "275                RB  18.0             0              NaN               1   \n",
       "\n",
       "     Minutes played  Goals  ...  Prevented goals per 90  \\\n",
       "0              2048      1  ...                     NaN   \n",
       "1              2029      2  ...                     NaN   \n",
       "2              2026      6  ...                     NaN   \n",
       "3              2024      4  ...                     NaN   \n",
       "4              2023      0  ...                   0.043   \n",
       "..              ...    ...  ...                     ...   \n",
       "271               7      0  ...                     NaN   \n",
       "272               6      0  ...                     NaN   \n",
       "273               6      0  ...                     NaN   \n",
       "274               5      0  ...                     NaN   \n",
       "275               3      0  ...                     NaN   \n",
       "\n",
       "     Back passes received as GK per 90  Exits per 90  Aerial duels per 90.1  \\\n",
       "0                                 1.67           NaN                    NaN   \n",
       "1                                 1.24           NaN                    NaN   \n",
       "2                                 0.31           NaN                    NaN   \n",
       "3                                 0.80           NaN                    NaN   \n",
       "4                                 0.00          1.38                   0.44   \n",
       "..                                 ...           ...                    ...   \n",
       "271                                NaN           NaN                    NaN   \n",
       "272                                NaN           NaN                    NaN   \n",
       "273                                NaN           NaN                    NaN   \n",
       "274                                NaN           NaN                    NaN   \n",
       "275                                NaN           NaN                    NaN   \n",
       "\n",
       "     Free kicks per 90 Direct free kicks per 90  \\\n",
       "0                 0.00                     0.00   \n",
       "1                 0.04                     0.00   \n",
       "2                 1.42                     0.22   \n",
       "3                 0.18                     0.00   \n",
       "4                  NaN                      NaN   \n",
       "..                 ...                      ...   \n",
       "271                NaN                      NaN   \n",
       "272                NaN                      NaN   \n",
       "273                NaN                      NaN   \n",
       "274                NaN                      NaN   \n",
       "275                NaN                      NaN   \n",
       "\n",
       "    Direct free kicks on target, % Corners per 90  Penalties taken  \\\n",
       "0                              0.0            0.0                0   \n",
       "1                              0.0            0.0                0   \n",
       "2                             60.0            3.2                1   \n",
       "3                              0.0            0.0                2   \n",
       "4                              NaN            0.0                0   \n",
       "..                             ...            ...              ...   \n",
       "271                            NaN            NaN                0   \n",
       "272                            NaN            NaN                0   \n",
       "273                            NaN            NaN                0   \n",
       "274                            NaN            NaN                0   \n",
       "275                            NaN            NaN                0   \n",
       "\n",
       "     Penalty conversion, %  \n",
       "0                      0.0  \n",
       "1                      0.0  \n",
       "2                    100.0  \n",
       "3                    100.0  \n",
       "4                      0.0  \n",
       "..                     ...  \n",
       "271                    0.0  \n",
       "272                    0.0  \n",
       "273                    0.0  \n",
       "274                    0.0  \n",
       "275                    0.0  \n",
       "\n",
       "[276 rows x 115 columns]>"
      ]
     },
     "execution_count": 41,
     "metadata": {},
     "output_type": "execute_result"
    }
   ],
   "source": [
    "df = pd.read_excel(r'E:\\OneDriveFolder\\OneDrive\\RadarGenerator\\radar-generator\\Testing Data\\WSL2 Data.xlsx')\n",
    "df.head()\n",
    "df.info"
   ]
  },
  {
   "cell_type": "code",
   "execution_count": 42,
   "id": "3fcd4f59",
   "metadata": {},
   "outputs": [],
   "source": [
    "df = df[df['Minutes played'] > 100]\n"
   ]
  },
  {
   "cell_type": "code",
   "execution_count": 43,
   "id": "08a96740",
   "metadata": {},
   "outputs": [
    {
     "name": "stdout",
     "output_type": "stream",
     "text": [
      "Unique positions found:\n",
      "['AMF', 'CB', 'CF', 'DMF', 'GK', 'LAMF', 'LB', 'LCB', 'LCMF', 'LDMF', 'LW', 'LWB', 'LWF', 'RAMF', 'RB', 'RCB', 'RCMF', 'RDMF', 'RW', 'RWB', 'RWF']\n",
      "\n",
      "After mapping:\n",
      "Main_Position\n",
      "CM    52\n",
      "CB    47\n",
      "FB    44\n",
      "CF    44\n",
      "WM    32\n",
      "GK    21\n",
      "Name: count, dtype: int64\n"
     ]
    },
    {
     "name": "stderr",
     "output_type": "stream",
     "text": [
      "C:\\Users\\Darcy Cox\\AppData\\Local\\Temp\\ipykernel_21000\\1983129403.py:2: SettingWithCopyWarning: \n",
      "A value is trying to be set on a copy of a slice from a DataFrame.\n",
      "Try using .loc[row_indexer,col_indexer] = value instead\n",
      "\n",
      "See the caveats in the documentation: https://pandas.pydata.org/pandas-docs/stable/user_guide/indexing.html#returning-a-view-versus-a-copy\n",
      "  df['Main_Position'] = df['Position'].str.split(',').str[0].str.strip()\n",
      "C:\\Users\\Darcy Cox\\AppData\\Local\\Temp\\ipykernel_21000\\1983129403.py:25: SettingWithCopyWarning: \n",
      "A value is trying to be set on a copy of a slice from a DataFrame.\n",
      "Try using .loc[row_indexer,col_indexer] = value instead\n",
      "\n",
      "See the caveats in the documentation: https://pandas.pydata.org/pandas-docs/stable/user_guide/indexing.html#returning-a-view-versus-a-copy\n",
      "  df['Main_Position'] = df['Main_Position'].apply(lambda x: reverse_mapping.get(x, x) if isinstance(x, str) else x)\n"
     ]
    }
   ],
   "source": [
    "# Clean the data first\n",
    "df['Main_Position'] = df['Position'].str.split(',').str[0].str.strip()\n",
    "\n",
    "# Check what you have\n",
    "print(\"Unique positions found:\")\n",
    "print(sorted(df['Main_Position'].unique()))\n",
    "\n",
    "# Your position mapping (this looks correct)\n",
    "position_mapping = {\n",
    "    'GK': ['GK'],\n",
    "    'CB': ['CB', 'LCB', 'RCB'],\n",
    "    'FB': ['LB', 'RB', 'RWB', 'LWB'],\n",
    "    'CM': ['DMF', 'LCMF', 'RCMF', 'LDMF', 'RDMF'],\n",
    "    'WM': ['LW', 'RW', 'RWF', 'LWF', 'RAMF', 'LAMF', 'AMF'],\n",
    "    'CF': ['CF']\n",
    "}\n",
    "\n",
    "# Create reverse mapping\n",
    "reverse_mapping = {}\n",
    "for key, values in position_mapping.items():\n",
    "    for value in values:\n",
    "        reverse_mapping[value] = key\n",
    "\n",
    "# Apply mapping\n",
    "df['Main_Position'] = df['Main_Position'].apply(lambda x: reverse_mapping.get(x, x) if isinstance(x, str) else x)\n",
    "\n",
    "# Check results\n",
    "print(\"\\nAfter mapping:\")\n",
    "print(df['Main_Position'].value_counts())"
   ]
  },
  {
   "cell_type": "code",
   "execution_count": 44,
   "id": "4564c3d7",
   "metadata": {},
   "outputs": [
    {
     "name": "stdout",
     "output_type": "stream",
     "text": [
      "DataFrame sizes after filtering:\n"
     ]
    }
   ],
   "source": [
    "print(\"DataFrame sizes after filtering:\")\n",
    "df_CB = df[df['Main_Position'] == 'CB']\n",
    "df_FB = df[df['Main_Position'] == 'FB'] \n",
    "df_CM = df[df['Main_Position'] == 'CM']\n",
    "df_WM = df[df['Main_Position'] == 'WM']\n",
    "df_CF = df[df['Main_Position'] == 'CF']\n",
    "df_GK = df[df['Main_Position'] == 'GK']  # You're missing this one!"
   ]
  },
  {
   "cell_type": "code",
   "execution_count": 45,
   "id": "475e0f36",
   "metadata": {},
   "outputs": [],
   "source": [
    "df_CB.to_csv('WSL2_CB.csv')\n",
    "df_FB.to_csv('WSL2_FB.csv')\n",
    "df_CM.to_csv('WSL2_CM.csv')\n",
    "df_WM.to_csv('WSL2_WM.csv')\n",
    "df_CF.to_csv('WSL2_CF.csv')"
   ]
  },
  {
   "cell_type": "code",
   "execution_count": 46,
   "id": "2ec608fb",
   "metadata": {},
   "outputs": [
    {
     "name": "stdout",
     "output_type": "stream",
     "text": [
      "<class 'pandas.core.frame.DataFrame'>\n",
      "Index: 52 entries, 2 to 232\n",
      "Columns: 116 entries, Player to Main_Position\n",
      "dtypes: float64(90), int64(16), object(10)\n",
      "memory usage: 47.5+ KB\n"
     ]
    }
   ],
   "source": [
    "df_CM.info()"
   ]
  }
 ],
 "metadata": {
  "kernelspec": {
   "display_name": "Python 3",
   "language": "python",
   "name": "python3"
  },
  "language_info": {
   "codemirror_mode": {
    "name": "ipython",
    "version": 3
   },
   "file_extension": ".py",
   "mimetype": "text/x-python",
   "name": "python",
   "nbconvert_exporter": "python",
   "pygments_lexer": "ipython3",
   "version": "3.12.0"
  }
 },
 "nbformat": 4,
 "nbformat_minor": 5
}
